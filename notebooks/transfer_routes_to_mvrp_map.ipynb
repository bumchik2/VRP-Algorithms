{
 "cells": [
  {
   "cell_type": "code",
   "execution_count": 1,
   "metadata": {},
   "outputs": [],
   "source": [
    "from lib.solver_tools.solver_client import SolverClient\n",
    "from lib.solver_tools import Task\n",
    "from lib.solver_tools.utils import make_task_comparison_link\n",
    "import json\n",
    "from copy import deepcopy\n",
    "from lib.common_tools.read_token import read_solver_apikey\n",
    "import os"
   ]
  },
  {
   "cell_type": "code",
   "execution_count": 2,
   "metadata": {},
   "outputs": [],
   "source": [
    "%load_ext autoreload\n",
    "%autoreload 2\n",
    "\n",
    "import sys\n",
    "sys.path.append(os.path.join(os.getcwd(), '..'))\n",
    "import vrp_algorithms_lib.common_tools.file_utils as file_utils\n",
    "from vrp_algorithms_lib.problem.models import Routes\n",
    "from typing import Any, Dict"
   ]
  },
  {
   "cell_type": "code",
   "execution_count": 3,
   "metadata": {},
   "outputs": [],
   "source": [
    "my_apikey = read_solver_apikey()\n",
    "solver_client = SolverClient(my_apikey)"
   ]
  },
  {
   "cell_type": "code",
   "execution_count": 4,
   "metadata": {},
   "outputs": [],
   "source": [
    "def get_request_with_fixed_routes(request: Dict[str, Any], routes: Routes) -> Dict[str, Any]:\n",
    "    # routes must contain fields 'vehicle_id', 'location_ids'\n",
    "    new_request = deepcopy(request)\n",
    "    vehicle_id_to_location_ids = {route.vehicle_id : route.location_ids for route in routes.routes}\n",
    "    for vehicle in new_request['vehicles']:\n",
    "        vehicle['visited_locations'] = [{'id': location_id} for location_id in vehicle_id_to_location_ids[vehicle['id']]]\n",
    "    new_request['options']['solver_time_limit_s'] = 0\n",
    "    return new_request"
   ]
  },
  {
   "cell_type": "code",
   "execution_count": 5,
   "metadata": {},
   "outputs": [],
   "source": [
    "def get_task_id_with_fixed_routes(path_to_request: str, path_to_routes: str, solver_client: SolverClient):\n",
    "    request = file_utils.read_json(path_to_request)\n",
    "    \n",
    "    routes_json = file_utils.read_json(path_to_routes)\n",
    "    routes: Routes = Routes.parse_obj(routes_json)\n",
    "        \n",
    "    request_with_fixed_routes = get_request_with_fixed_routes(request, routes)\n",
    "    task_id_with_fixed_routes = solver_client.add_task_and_get_task_id(request_with_fixed_routes)\n",
    "    return task_id_with_fixed_routes"
   ]
  },
  {
   "cell_type": "code",
   "execution_count": 6,
   "metadata": {},
   "outputs": [
    {
     "name": "stderr",
     "output_type": "stream",
     "text": [
      "/b2bgeo/environments/common_env/lib/python3.8/site-packages/urllib3/connectionpool.py:1013: InsecureRequestWarning: Unverified HTTPS request is being made to host 'courier.yandex.ru'. Adding certificate verification is strongly advised. See: https://urllib3.readthedocs.io/en/1.26.x/advanced-usage.html#ssl-warnings\n",
      "  warnings.warn(\n"
     ]
    }
   ],
   "source": [
    "path_to_request = '../test_data/inputs/large_test_2/request.json'\n",
    "path_to_routes_annealing = os.path.join('../test_data/results/annealing/large_test_2/30000000_iterations_routes_1.json')\n",
    "task_id_annealing = get_task_id_with_fixed_routes(path_to_request, path_to_routes_annealing, solver_client)"
   ]
  },
  {
   "cell_type": "code",
   "execution_count": 7,
   "metadata": {},
   "outputs": [
    {
     "name": "stderr",
     "output_type": "stream",
     "text": [
      "Neither solver_api_key nor ya_courier_token provided to SolverClient. Using client in limited functionality mode\n"
     ]
    },
    {
     "ename": "ValueError",
     "evalue": "Task 85a839b0-35334593-180a978d-45c30fbf hasn't been solved yet. ETA 00:32:34",
     "output_type": "error",
     "traceback": [
      "\u001b[0;31m---------------------------------------------------------------------------\u001b[0m",
      "\u001b[0;31mValueError\u001b[0m                                Traceback (most recent call last)",
      "Input \u001b[0;32mIn [7]\u001b[0m, in \u001b[0;36m<cell line: 1>\u001b[0;34m()\u001b[0m\n\u001b[0;32m----> 1\u001b[0m \u001b[43mTask\u001b[49m\u001b[43m(\u001b[49m\u001b[43mtask_id_annealing\u001b[49m\u001b[43m)\u001b[49m\u001b[38;5;241m.\u001b[39mmap()\n",
      "File \u001b[0;32m/b2bgeo/environments/common_env/lib/python3.8/site-packages/lib/solver_tools/Task.py:85\u001b[0m, in \u001b[0;36mTask.__init__\u001b[0;34m(self, task_id, solver_api_key, secret_key, instance, request, result, map_as_html, aws)\u001b[0m\n\u001b[1;32m     83\u001b[0m \u001b[38;5;28;01mif\u001b[39;00m \u001b[38;5;124m'\u001b[39m\u001b[38;5;124mresult\u001b[39m\u001b[38;5;124m'\u001b[39m \u001b[38;5;129;01mnot\u001b[39;00m \u001b[38;5;129;01min\u001b[39;00m result:\n\u001b[1;32m     84\u001b[0m     eta \u001b[38;5;241m=\u001b[39m datetime\u001b[38;5;241m.\u001b[39mdatetime\u001b[38;5;241m.\u001b[39mfromtimestamp(result[\u001b[38;5;124m'\u001b[39m\u001b[38;5;124mstatus\u001b[39m\u001b[38;5;124m'\u001b[39m][\u001b[38;5;124m'\u001b[39m\u001b[38;5;124mestimate\u001b[39m\u001b[38;5;124m'\u001b[39m])\u001b[38;5;241m.\u001b[39mstrftime(\u001b[38;5;124m'\u001b[39m\u001b[38;5;124m%\u001b[39m\u001b[38;5;124mH:\u001b[39m\u001b[38;5;124m%\u001b[39m\u001b[38;5;124mM:\u001b[39m\u001b[38;5;124m%\u001b[39m\u001b[38;5;124mS\u001b[39m\u001b[38;5;124m'\u001b[39m)\n\u001b[0;32m---> 85\u001b[0m     \u001b[38;5;28;01mraise\u001b[39;00m \u001b[38;5;167;01mValueError\u001b[39;00m(\u001b[38;5;124mf\u001b[39m\u001b[38;5;124m\"\u001b[39m\u001b[38;5;124mTask \u001b[39m\u001b[38;5;132;01m{task_id}\u001b[39;00m\u001b[38;5;124m hasn\u001b[39m\u001b[38;5;124m'\u001b[39m\u001b[38;5;124mt been solved yet. ETA \u001b[39m\u001b[38;5;132;01m{eta}\u001b[39;00m\u001b[38;5;124m\"\u001b[39m)\n\u001b[1;32m     86\u001b[0m \u001b[38;5;28mself\u001b[39m\u001b[38;5;241m.\u001b[39mtask_id \u001b[38;5;241m=\u001b[39m result[\u001b[38;5;124m'\u001b[39m\u001b[38;5;124mid\u001b[39m\u001b[38;5;124m'\u001b[39m]\n\u001b[1;32m     87\u001b[0m \u001b[38;5;28mself\u001b[39m\u001b[38;5;241m.\u001b[39mdepots \u001b[38;5;241m=\u001b[39m \u001b[38;5;28mself\u001b[39m\u001b[38;5;241m.\u001b[39mget_depots(\u001b[38;5;28mself\u001b[39m\u001b[38;5;241m.\u001b[39mrequest)\n",
      "\u001b[0;31mValueError\u001b[0m: Task 85a839b0-35334593-180a978d-45c30fbf hasn't been solved yet. ETA 00:32:34"
     ]
    }
   ],
   "source": [
    "Task(task_id_annealing).map()"
   ]
  },
  {
   "cell_type": "code",
   "execution_count": 8,
   "metadata": {},
   "outputs": [
    {
     "name": "stderr",
     "output_type": "stream",
     "text": [
      "/b2bgeo/environments/common_env/lib/python3.8/site-packages/urllib3/connectionpool.py:1013: InsecureRequestWarning: Unverified HTTPS request is being made to host 'courier.yandex.ru'. Adding certificate verification is strongly advised. See: https://urllib3.readthedocs.io/en/1.26.x/advanced-usage.html#ssl-warnings\n",
      "  warnings.warn(\n"
     ]
    }
   ],
   "source": [
    "path_to_routes_greedy = os.path.join('../test_data/results/greedy/large_test_2/routes.json')\n",
    "task_id_greedy = get_task_id_with_fixed_routes(path_to_request, path_to_routes_greedy, solver_client)"
   ]
  },
  {
   "cell_type": "code",
   "execution_count": 9,
   "metadata": {},
   "outputs": [
    {
     "name": "stderr",
     "output_type": "stream",
     "text": [
      "Neither solver_api_key nor ya_courier_token provided to SolverClient. Using client in limited functionality mode\n"
     ]
    },
    {
     "ename": "ValueError",
     "evalue": "Task c91d73b6-af9ba725-735b627-80d69e24 hasn't been solved yet. ETA 00:32:41",
     "output_type": "error",
     "traceback": [
      "\u001b[0;31m---------------------------------------------------------------------------\u001b[0m",
      "\u001b[0;31mValueError\u001b[0m                                Traceback (most recent call last)",
      "Input \u001b[0;32mIn [9]\u001b[0m, in \u001b[0;36m<cell line: 1>\u001b[0;34m()\u001b[0m\n\u001b[0;32m----> 1\u001b[0m \u001b[43mTask\u001b[49m\u001b[43m(\u001b[49m\u001b[43mtask_id_greedy\u001b[49m\u001b[43m)\u001b[49m\u001b[38;5;241m.\u001b[39mmap()\n",
      "File \u001b[0;32m/b2bgeo/environments/common_env/lib/python3.8/site-packages/lib/solver_tools/Task.py:85\u001b[0m, in \u001b[0;36mTask.__init__\u001b[0;34m(self, task_id, solver_api_key, secret_key, instance, request, result, map_as_html, aws)\u001b[0m\n\u001b[1;32m     83\u001b[0m \u001b[38;5;28;01mif\u001b[39;00m \u001b[38;5;124m'\u001b[39m\u001b[38;5;124mresult\u001b[39m\u001b[38;5;124m'\u001b[39m \u001b[38;5;129;01mnot\u001b[39;00m \u001b[38;5;129;01min\u001b[39;00m result:\n\u001b[1;32m     84\u001b[0m     eta \u001b[38;5;241m=\u001b[39m datetime\u001b[38;5;241m.\u001b[39mdatetime\u001b[38;5;241m.\u001b[39mfromtimestamp(result[\u001b[38;5;124m'\u001b[39m\u001b[38;5;124mstatus\u001b[39m\u001b[38;5;124m'\u001b[39m][\u001b[38;5;124m'\u001b[39m\u001b[38;5;124mestimate\u001b[39m\u001b[38;5;124m'\u001b[39m])\u001b[38;5;241m.\u001b[39mstrftime(\u001b[38;5;124m'\u001b[39m\u001b[38;5;124m%\u001b[39m\u001b[38;5;124mH:\u001b[39m\u001b[38;5;124m%\u001b[39m\u001b[38;5;124mM:\u001b[39m\u001b[38;5;124m%\u001b[39m\u001b[38;5;124mS\u001b[39m\u001b[38;5;124m'\u001b[39m)\n\u001b[0;32m---> 85\u001b[0m     \u001b[38;5;28;01mraise\u001b[39;00m \u001b[38;5;167;01mValueError\u001b[39;00m(\u001b[38;5;124mf\u001b[39m\u001b[38;5;124m\"\u001b[39m\u001b[38;5;124mTask \u001b[39m\u001b[38;5;132;01m{task_id}\u001b[39;00m\u001b[38;5;124m hasn\u001b[39m\u001b[38;5;124m'\u001b[39m\u001b[38;5;124mt been solved yet. ETA \u001b[39m\u001b[38;5;132;01m{eta}\u001b[39;00m\u001b[38;5;124m\"\u001b[39m)\n\u001b[1;32m     86\u001b[0m \u001b[38;5;28mself\u001b[39m\u001b[38;5;241m.\u001b[39mtask_id \u001b[38;5;241m=\u001b[39m result[\u001b[38;5;124m'\u001b[39m\u001b[38;5;124mid\u001b[39m\u001b[38;5;124m'\u001b[39m]\n\u001b[1;32m     87\u001b[0m \u001b[38;5;28mself\u001b[39m\u001b[38;5;241m.\u001b[39mdepots \u001b[38;5;241m=\u001b[39m \u001b[38;5;28mself\u001b[39m\u001b[38;5;241m.\u001b[39mget_depots(\u001b[38;5;28mself\u001b[39m\u001b[38;5;241m.\u001b[39mrequest)\n",
      "\u001b[0;31mValueError\u001b[0m: Task c91d73b6-af9ba725-735b627-80d69e24 hasn't been solved yet. ETA 00:32:41"
     ]
    }
   ],
   "source": [
    "Task(task_id_greedy).map()"
   ]
  },
  {
   "cell_type": "code",
   "execution_count": 10,
   "metadata": {},
   "outputs": [
    {
     "data": {
      "text/plain": [
       "'c91d73b6-af9ba725-735b627-80d69e24'"
      ]
     },
     "execution_count": 10,
     "metadata": {},
     "output_type": "execute_result"
    }
   ],
   "source": [
    "task_id_greedy"
   ]
  },
  {
   "cell_type": "code",
   "execution_count": 11,
   "metadata": {},
   "outputs": [
    {
     "data": {
      "text/html": [
       "<a href=\"https://courier.yandex.ru/s3/courier-admin/compare-tasks/index.html#/?selected_tasks[85a839b0-35334593-180a978d-45c30fbf]=Annealing&selected_tasks[c91d73b6-af9ba725-735b627-80d69e24]=Greedy&\" target=\"_blank\">https://courier.yandex.ru/s3/courier-admin/compare-tasks/index.html#/?selected_tasks[85a839b0-35334593-180a978d-45c30fbf]=Annealing&selected_tasks[c91d73b6-af9ba725-735b627-80d69e24]=Greedy&</a>"
      ],
      "text/plain": [
       "<IPython.core.display.HTML object>"
      ]
     },
     "execution_count": 11,
     "metadata": {},
     "output_type": "execute_result"
    }
   ],
   "source": [
    "make_task_comparison_link(\n",
    "    ['85a839b0-35334593-180a978d-45c30fbf', 'c91d73b6-af9ba725-735b627-80d69e24'],\n",
    "    ['Annealing', 'Greedy']\n",
    ")"
   ]
  },
  {
   "cell_type": "code",
   "execution_count": null,
   "metadata": {},
   "outputs": [],
   "source": []
  }
 ],
 "metadata": {
  "kernelspec": {
   "display_name": "common_env",
   "language": "python",
   "name": "common_env"
  },
  "language_info": {
   "codemirror_mode": {
    "name": "ipython",
    "version": 3
   },
   "file_extension": ".py",
   "mimetype": "text/x-python",
   "name": "python",
   "nbconvert_exporter": "python",
   "pygments_lexer": "ipython3",
   "version": "3.8.0"
  }
 },
 "nbformat": 4,
 "nbformat_minor": 2
}
