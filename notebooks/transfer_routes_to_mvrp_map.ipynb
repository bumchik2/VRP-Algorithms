{
 "cells": [
  {
   "cell_type": "code",
   "execution_count": 1,
   "metadata": {},
   "outputs": [],
   "source": [
    "from lib.solver_tools.solver_client import SolverClient\n",
    "from lib.solver_tools import Task\n",
    "from lib.solver_tools.utils import make_task_comparison_link\n",
    "import json\n",
    "from copy import deepcopy\n",
    "from lib.common_tools.read_token import read_solver_apikey\n",
    "import os"
   ]
  },
  {
   "cell_type": "code",
   "execution_count": 2,
   "metadata": {},
   "outputs": [],
   "source": [
    "%load_ext autoreload\n",
    "%autoreload 2\n",
    "\n",
    "import sys\n",
    "sys.path.append(os.path.join(os.getcwd(), '..'))\n",
    "import vrp_algorithms_lib.common_tools.file_utils as file_utils\n",
    "from vrp_algorithms_lib.problem.models import Routes\n",
    "from typing import Any, Dict"
   ]
  },
  {
   "cell_type": "code",
   "execution_count": 3,
   "metadata": {},
   "outputs": [],
   "source": [
    "my_apikey = read_solver_apikey()\n",
    "solver_client = SolverClient(my_apikey)"
   ]
  },
  {
   "cell_type": "code",
   "execution_count": 4,
   "metadata": {},
   "outputs": [],
   "source": [
    "def get_request_with_fixed_routes(request: Dict[str, Any], routes: Routes) -> Dict[str, Any]:\n",
    "    # routes must contain fields 'vehicle_id', 'location_ids'\n",
    "    new_request = deepcopy(request)\n",
    "    vehicle_id_to_location_ids = {route.vehicle_id : route.location_ids for route in routes.routes}\n",
    "    for vehicle in new_request['vehicles']:\n",
    "        vehicle['visited_locations'] = [{'id': location_id} for location_id in vehicle_id_to_location_ids[vehicle['id']]]\n",
    "    new_request['options']['solver_time_limit_s'] = 0\n",
    "    return new_request"
   ]
  },
  {
   "cell_type": "code",
   "execution_count": 5,
   "metadata": {},
   "outputs": [],
   "source": [
    "def get_task_id_with_fixed_routes(path_to_request: str, path_to_routes: str, solver_client: SolverClient):\n",
    "    request = file_utils.read_json(path_to_request)\n",
    "    \n",
    "    routes_json = file_utils.read_json(path_to_routes)\n",
    "    routes: Routes = Routes.parse_obj(routes_json)\n",
    "        \n",
    "    request_with_fixed_routes = get_request_with_fixed_routes(request, routes)\n",
    "    task_id_with_fixed_routes = solver_client.add_task_and_get_task_id(request_with_fixed_routes)\n",
    "    return task_id_with_fixed_routes"
   ]
  },
  {
   "cell_type": "code",
   "execution_count": 6,
   "metadata": {},
   "outputs": [
    {
     "name": "stderr",
     "output_type": "stream",
     "text": [
      "/b2bgeo/environments/common_env/lib/python3.8/site-packages/urllib3/connectionpool.py:1013: InsecureRequestWarning: Unverified HTTPS request is being made to host 'courier.yandex.ru'. Adding certificate verification is strongly advised. See: https://urllib3.readthedocs.io/en/1.26.x/advanced-usage.html#ssl-warnings\n",
      "  warnings.warn(\n"
     ]
    }
   ],
   "source": [
    "path_to_request = '../test_data/inputs/large_test_2/request.json'\n",
    "path_to_routes_annealing = os.path.join('../test_data/results/annealing/large_test_2/30000000_iterations_routes_1.json')\n",
    "task_id_annealing = get_task_id_with_fixed_routes(path_to_request, path_to_routes_annealing, solver_client)"
   ]
  },
  {
   "cell_type": "code",
   "execution_count": 12,
   "metadata": {},
   "outputs": [
    {
     "name": "stderr",
     "output_type": "stream",
     "text": [
      "Neither solver_api_key nor ya_courier_token provided to SolverClient. Using client in limited functionality mode\n"
     ]
    },
    {
     "data": {
      "text/html": [
       "<a href=\"https://yandex.ru/courier/mvrp-map#85a839b0-35334593-180a978d-45c30fbf\" target=\"_blank\">https://yandex.ru/courier/mvrp-map#85a839b0-35334593-180a978d-45c30fbf</a>"
      ],
      "text/plain": [
       "<IPython.core.display.HTML object>"
      ]
     },
     "execution_count": 12,
     "metadata": {},
     "output_type": "execute_result"
    }
   ],
   "source": [
    "Task(task_id_annealing).map()"
   ]
  },
  {
   "cell_type": "code",
   "execution_count": 8,
   "metadata": {},
   "outputs": [
    {
     "name": "stderr",
     "output_type": "stream",
     "text": [
      "/b2bgeo/environments/common_env/lib/python3.8/site-packages/urllib3/connectionpool.py:1013: InsecureRequestWarning: Unverified HTTPS request is being made to host 'courier.yandex.ru'. Adding certificate verification is strongly advised. See: https://urllib3.readthedocs.io/en/1.26.x/advanced-usage.html#ssl-warnings\n",
      "  warnings.warn(\n"
     ]
    }
   ],
   "source": [
    "path_to_routes_greedy = os.path.join('../test_data/results/greedy/large_test_2/routes.json')\n",
    "task_id_greedy = get_task_id_with_fixed_routes(path_to_request, path_to_routes_greedy, solver_client)"
   ]
  },
  {
   "cell_type": "code",
   "execution_count": 13,
   "metadata": {},
   "outputs": [
    {
     "name": "stderr",
     "output_type": "stream",
     "text": [
      "Neither solver_api_key nor ya_courier_token provided to SolverClient. Using client in limited functionality mode\n"
     ]
    },
    {
     "data": {
      "text/html": [
       "<a href=\"https://yandex.ru/courier/mvrp-map#c91d73b6-af9ba725-735b627-80d69e24\" target=\"_blank\">https://yandex.ru/courier/mvrp-map#c91d73b6-af9ba725-735b627-80d69e24</a>"
      ],
      "text/plain": [
       "<IPython.core.display.HTML object>"
      ]
     },
     "execution_count": 13,
     "metadata": {},
     "output_type": "execute_result"
    }
   ],
   "source": [
    "Task(task_id_greedy).map()"
   ]
  },
  {
   "cell_type": "code",
   "execution_count": 10,
   "metadata": {},
   "outputs": [
    {
     "data": {
      "text/plain": [
       "'c91d73b6-af9ba725-735b627-80d69e24'"
      ]
     },
     "execution_count": 10,
     "metadata": {},
     "output_type": "execute_result"
    }
   ],
   "source": [
    "task_id_greedy"
   ]
  },
  {
   "cell_type": "code",
   "execution_count": 11,
   "metadata": {},
   "outputs": [
    {
     "data": {
      "text/html": [
       "<a href=\"https://courier.yandex.ru/s3/courier-admin/compare-tasks/index.html#/?selected_tasks[85a839b0-35334593-180a978d-45c30fbf]=Annealing&selected_tasks[c91d73b6-af9ba725-735b627-80d69e24]=Greedy&\" target=\"_blank\">https://courier.yandex.ru/s3/courier-admin/compare-tasks/index.html#/?selected_tasks[85a839b0-35334593-180a978d-45c30fbf]=Annealing&selected_tasks[c91d73b6-af9ba725-735b627-80d69e24]=Greedy&</a>"
      ],
      "text/plain": [
       "<IPython.core.display.HTML object>"
      ]
     },
     "execution_count": 11,
     "metadata": {},
     "output_type": "execute_result"
    }
   ],
   "source": [
    "make_task_comparison_link(\n",
    "    ['85a839b0-35334593-180a978d-45c30fbf', 'c91d73b6-af9ba725-735b627-80d69e24'],\n",
    "    ['Annealing', 'Greedy']\n",
    ")"
   ]
  },
  {
   "cell_type": "code",
   "execution_count": null,
   "metadata": {},
   "outputs": [],
   "source": []
  }
 ],
 "metadata": {
  "kernelspec": {
   "display_name": "common_env",
   "language": "python",
   "name": "common_env"
  },
  "language_info": {
   "codemirror_mode": {
    "name": "ipython",
    "version": 3
   },
   "file_extension": ".py",
   "mimetype": "text/x-python",
   "name": "python",
   "nbconvert_exporter": "python",
   "pygments_lexer": "ipython3",
   "version": "3.8.0"
  }
 },
 "nbformat": 4,
 "nbformat_minor": 2
}
