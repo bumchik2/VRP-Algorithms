{
 "cells": [
  {
   "cell_type": "code",
   "execution_count": 1,
   "metadata": {},
   "outputs": [],
   "source": [
    "%load_ext autoreload\n",
    "%autoreload 2\n",
    "\n",
    "import os\n",
    "import sys\n",
    "sys.path.append(os.path.join(os.getcwd(), '..'))"
   ]
  },
  {
   "cell_type": "code",
   "execution_count": 2,
   "metadata": {},
   "outputs": [],
   "source": [
    "from vrp_algorithms_lib.algorithm.annealing_algorithm import AnnealingAlgorithm\n",
    "from vrp_algorithms_lib.problem.models import Routes, ProblemDescription\n",
    "import vrp_algorithms_lib.common_tools.file_utils as file_utils"
   ]
  },
  {
   "cell_type": "code",
   "execution_count": 3,
   "metadata": {},
   "outputs": [],
   "source": [
    "path_to_problem_description_json = '../test_data/inputs/large_test_2/problem_description.json'\n",
    "problem_description_json = file_utils.read_json(path_to_problem_description_json)"
   ]
  },
  {
   "cell_type": "code",
   "execution_count": 4,
   "metadata": {},
   "outputs": [],
   "source": [
    "problem_description = ProblemDescription.parse_obj(problem_description_json)"
   ]
  },
  {
   "cell_type": "code",
   "execution_count": 5,
   "metadata": {},
   "outputs": [],
   "source": [
    "path_to_annealing_binary = '../bin/VRP_Algorithms_annealing_algorithm'\n",
    "tmp_path_for_problem_description = 'tmp_problem_description.json'\n",
    "tmp_path_for_routes = 'tmp_routes.json'\n",
    "n_iterations = 100000\n",
    "initial_temperature = 1000\n",
    "\n",
    "annealing_algorithm = AnnealingAlgorithm(\n",
    "    path_to_annealing_binary=path_to_annealing_binary,\n",
    "    tmp_path_for_problem_description=tmp_path_for_problem_description,\n",
    "    tmp_path_for_routes=tmp_path_for_routes,\n",
    "    n_iterations=n_iterations,\n",
    "    initial_temperature=initial_temperature,\n",
    "    verbose=True\n",
    ")"
   ]
  },
  {
   "cell_type": "code",
   "execution_count": 6,
   "metadata": {},
   "outputs": [
    {
     "name": "stdout",
     "output_type": "stream",
     "text": [
      "python_path_to_problem_description = tmp_problem_description.json\n",
      "python_path_to_routes = tmp_routes.json\n",
      "Running the following command: ['./../bin/VRP_Algorithms_annealing_algorithm', 'tmp_problem_description.json', 'tmp_routes.json', '100000', '1000']\n"
     ]
    },
    {
     "name": "stderr",
     "output_type": "stream",
     "text": [
      "{100.0%} [########################################] (2.8s < 0.0s) "
     ]
    }
   ],
   "source": [
    "routes: Routes = annealing_algorithm.solve_problem(\n",
    "    problem_description\n",
    ")"
   ]
  },
  {
   "cell_type": "code",
   "execution_count": null,
   "metadata": {},
   "outputs": [],
   "source": []
  }
 ],
 "metadata": {
  "kernelspec": {
   "display_name": "Python 3.8 VRP Algorithms",
   "language": "python",
   "name": "vrp_algorithms"
  },
  "language_info": {
   "codemirror_mode": {
    "name": "ipython",
    "version": 3
   },
   "file_extension": ".py",
   "mimetype": "text/x-python",
   "name": "python",
   "nbconvert_exporter": "python",
   "pygments_lexer": "ipython3",
   "version": "3.8.10"
  }
 },
 "nbformat": 4,
 "nbformat_minor": 2
}
