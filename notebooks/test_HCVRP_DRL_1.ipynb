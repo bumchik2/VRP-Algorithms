{
 "cells": [
  {
   "cell_type": "code",
   "execution_count": 1,
   "metadata": {},
   "outputs": [
    {
     "name": "stdout",
     "output_type": "stream",
     "text": [
      "Cloning into 'HCVRP_DRL'...\n",
      "remote: Enumerating objects: 262, done.\u001b[K\n",
      "remote: Counting objects: 100% (21/21), done.\u001b[K\n",
      "remote: Compressing objects: 100% (10/10), done.\u001b[K\n",
      "remote: Total 262 (delta 16), reused 11 (delta 11), pack-reused 241\u001b[K\n",
      "Receiving objects: 100% (262/262), 474.29 MiB | 13.33 MiB/s, done.\n",
      "Resolving deltas: 100% (116/116), done.\n",
      "Checking out files: 100% (124/124), done.\n"
     ]
    }
   ],
   "source": [
    "!git clone https://github.com/Demon0312/HCVRP_DRL"
   ]
  },
  {
   "cell_type": "code",
   "execution_count": 8,
   "metadata": {},
   "outputs": [
    {
     "name": "stdout",
     "output_type": "stream",
     "text": [
      "['/home/eliseysudakov/VRP_Algorithms_src/notebooks', '/home/eliseysudakov/miniconda3/envs/geov_env/lib/python38.zip', '/home/eliseysudakov/miniconda3/envs/geov_env/lib/python3.8', '/home/eliseysudakov/miniconda3/envs/geov_env/lib/python3.8/lib-dynload', '', '/home/eliseysudakov/.local/lib/python3.8/site-packages', '/home/eliseysudakov/miniconda3/envs/geov_env/lib/python3.8/site-packages', '/home/eliseysudakov/src/analytics', 'HCVRP_DRL/fleet_v3']\n"
     ]
    }
   ],
   "source": [
    "import sys\n",
    "sys.path\n",
    "sys.path.append('HCVRP_DRL/fleet_v3')\n",
    "print(sys.path)"
   ]
  },
  {
   "cell_type": "code",
   "execution_count": 22,
   "metadata": {},
   "outputs": [
    {
     "name": "stdout",
     "output_type": "stream",
     "text": [
      "Traceback (most recent call last):\n",
      "  File \"run.py\", line 13, in <module>\n",
      "    from train import train_epoch, validate, get_inner_model\n",
      "  File \"/home/eliseysudakov/VRP_Algorithms_src/notebooks/HCVRP_DRL/fleet_v3/train.py\", line 10, in <module>\n",
      "    from nets.attention_model import set_decode_type\n",
      "  File \"/home/eliseysudakov/VRP_Algorithms_src/notebooks/HCVRP_DRL/fleet_v3/nets/attention_model.py\", line 23, in <module>\n",
      "    class AttentionModelFixed(NamedTuple):\n",
      "RuntimeError: __class__ not set defining 'AttentionModelFixed' as <class 'nets.attention_model.AttentionModelFixed'>. Was __classcell__ propagated to type.__new__?\n"
     ]
    }
   ],
   "source": [
    "!/home/eliseysudakov/miniconda3/envs/geov_env/bin/python run.py --graph_size 40 --baseline rollout --run_name 'hcvrp40_rollout' --obj min-max"
   ]
  },
  {
   "cell_type": "code",
   "execution_count": null,
   "metadata": {},
   "outputs": [],
   "source": []
  }
 ],
 "metadata": {
  "kernelspec": {
   "display_name": "Python 3.8 conda geoviews",
   "language": "python",
   "name": "analytical_kernel"
  },
  "language_info": {
   "codemirror_mode": {
    "name": "ipython",
    "version": 3
   },
   "file_extension": ".py",
   "mimetype": "text/x-python",
   "name": "python",
   "nbconvert_exporter": "python",
   "pygments_lexer": "ipython3",
   "version": "3.8.13"
  }
 },
 "nbformat": 4,
 "nbformat_minor": 2
}
