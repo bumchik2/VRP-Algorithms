{
 "cells": [
  {
   "cell_type": "code",
   "execution_count": 1,
   "metadata": {},
   "outputs": [],
   "source": [
    "from lib.solver_tools.solver_client import SolverClient\n",
    "from lib.solver_tools import Task\n",
    "from lib.solver_tools.utils import make_task_comparison_link\n",
    "import json\n",
    "from copy import deepcopy\n",
    "from lib.common_tools.read_token import read_solver_apikey\n",
    "import os"
   ]
  },
  {
   "cell_type": "code",
   "execution_count": 2,
   "metadata": {},
   "outputs": [],
   "source": [
    "%load_ext autoreload\n",
    "%autoreload 2\n",
    "\n",
    "import sys\n",
    "sys.path.append(os.path.join(os.getcwd(), '..'))\n",
    "import python_lib.viz as my_viz\n",
    "import python_lib.utils as my_utils"
   ]
  },
  {
   "cell_type": "code",
   "execution_count": 3,
   "metadata": {},
   "outputs": [],
   "source": [
    "my_apikey = read_solver_apikey()\n",
    "solver_client = SolverClient(my_apikey)"
   ]
  },
  {
   "cell_type": "code",
   "execution_count": 4,
   "metadata": {},
   "outputs": [],
   "source": [
    "request_path = '../test_data/inputs/medium_test_1/request.json'"
   ]
  },
  {
   "cell_type": "code",
   "execution_count": 6,
   "metadata": {},
   "outputs": [],
   "source": [
    "task_id = '34000a30-948d94b2-8665fb47-a7eb3b85'\n",
    "initial_request = solver_client.get_request(task_id)"
   ]
  },
  {
   "cell_type": "code",
   "execution_count": 20,
   "metadata": {},
   "outputs": [],
   "source": [
    "def transform_request(initial_request):\n",
    "    assert len(initial_request['depots']) == 1\n",
    "    \n",
    "    locations = [\n",
    "        {'id': f'location {i+1}', 'depot_id': 'depot 1', 'point': l['point'], 'time_window': l['time_window']} for i, l in enumerate(initial_request['locations'])\n",
    "    ]\n",
    "    \n",
    "    vehicles = [\n",
    "        {'id': f'courier {i+1}', 'return_to_depot': False} for i, v in enumerate(initial_request['vehicles'])\n",
    "    ]\n",
    "    \n",
    "    depots = [\n",
    "        {'id': f'depot {i+1}', 'point': d['point'], 'time_window': '00:00:00-2.00:00:00'} for i, d in enumerate(initial_request['depots'])\n",
    "    ]\n",
    "    \n",
    "    options = {\n",
    "        'time_zone': 3\n",
    "    }\n",
    "    \n",
    "    new_request = {\n",
    "        'locations': locations,\n",
    "        'vehicles': vehicles,\n",
    "        'depots': depots,\n",
    "        'options': options\n",
    "    }\n",
    "    \n",
    "    return new_request"
   ]
  },
  {
   "cell_type": "code",
   "execution_count": 21,
   "metadata": {},
   "outputs": [],
   "source": [
    "transformed_request = transform_request(initial_request)"
   ]
  },
  {
   "cell_type": "code",
   "execution_count": 22,
   "metadata": {},
   "outputs": [],
   "source": [
    "my_utils.save_json(transformed_request, request_path)"
   ]
  },
  {
   "cell_type": "code",
   "execution_count": null,
   "metadata": {},
   "outputs": [],
   "source": []
  }
 ],
 "metadata": {
  "kernelspec": {
   "display_name": "common_env",
   "language": "python",
   "name": "common_env"
  },
  "language_info": {
   "codemirror_mode": {
    "name": "ipython",
    "version": 3
   },
   "file_extension": ".py",
   "mimetype": "text/x-python",
   "name": "python",
   "nbconvert_exporter": "python",
   "pygments_lexer": "ipython3",
   "version": "3.8.0"
  }
 },
 "nbformat": 4,
 "nbformat_minor": 2
}
