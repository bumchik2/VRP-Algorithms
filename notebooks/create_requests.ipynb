{
 "cells": [
  {
   "cell_type": "code",
   "execution_count": 1,
   "metadata": {},
   "outputs": [],
   "source": [
    "from lib.solver_tools.solver_client import SolverClient\n",
    "from lib.solver_tools import Task\n",
    "from lib.solver_tools.utils import make_task_comparison_link\n",
    "import json\n",
    "from copy import deepcopy\n",
    "from lib.common_tools.read_token import read_solver_apikey\n",
    "import os"
   ]
  },
  {
   "cell_type": "code",
   "execution_count": 2,
   "metadata": {},
   "outputs": [],
   "source": [
    "%load_ext autoreload\n",
    "%autoreload 2\n",
    "\n",
    "import sys\n",
    "sys.path.append(os.path.join(os.getcwd(), '..'))\n",
    "import vrp_algorithms_lib.common_tools.file_utils as file_utils"
   ]
  },
  {
   "cell_type": "code",
   "execution_count": 3,
   "metadata": {},
   "outputs": [],
   "source": [
    "my_apikey = read_solver_apikey()\n",
    "solver_client = SolverClient(my_apikey)"
   ]
  },
  {
   "cell_type": "code",
   "execution_count": 16,
   "metadata": {},
   "outputs": [],
   "source": [
    "# request_path = '../test_data/inputs/medium_test_1/request.json'\n",
    "# task_id = '34000a30-948d94b2-8665fb47-a7eb3b85'\n",
    "\n",
    "# request_path = '../test_data/inputs/large_test_1/request.json'\n",
    "# task_id = '88060738-3eb5db87-9f6a7288-6fd4c3d2'\n",
    "\n",
    "request_path = '../test_data/inputs/large_test_2/request.json'\n",
    "task_id = 'f392f33d-1bab419a-24f43d12-acf0c715'"
   ]
  },
  {
   "cell_type": "code",
   "execution_count": 17,
   "metadata": {},
   "outputs": [],
   "source": [
    "initial_request = solver_client.get_request(task_id)"
   ]
  },
  {
   "cell_type": "code",
   "execution_count": 24,
   "metadata": {},
   "outputs": [],
   "source": [
    "def transform_request(initial_request):\n",
    "    assert len(initial_request['depots']) == 1\n",
    "    \n",
    "    locations = [\n",
    "        {'id': f'location {i+1}', 'depot_id': 'depot 1', 'point': l['point'], 'time_window': '08:00:00-22:00:00'} for i, l in enumerate(initial_request['locations'])  # could take l['time_window'] for time_window\n",
    "    ]\n",
    "    \n",
    "    vehicles = [\n",
    "        {'id': f'courier {i+1}', 'return_to_depot': False} for i, v in enumerate(initial_request['vehicles'])\n",
    "    ]\n",
    "    \n",
    "    depots = [\n",
    "        {'id': f'depot {i+1}', 'point': d['point'], 'time_window': '00:00:00-2.00:00:00'} for i, d in enumerate(initial_request['depots'])\n",
    "    ]\n",
    "    \n",
    "    options = {\n",
    "        'time_zone': 3\n",
    "    }\n",
    "    \n",
    "    new_request = {\n",
    "        'locations': locations,\n",
    "        'vehicles': vehicles,\n",
    "        'depots': depots,\n",
    "        'options': options\n",
    "    }\n",
    "    \n",
    "    return new_request"
   ]
  },
  {
   "cell_type": "code",
   "execution_count": 25,
   "metadata": {},
   "outputs": [],
   "source": [
    "transformed_request = transform_request(initial_request)"
   ]
  },
  {
   "cell_type": "code",
   "execution_count": 26,
   "metadata": {},
   "outputs": [],
   "source": [
    "file_utils.save_json(transformed_request, request_path)"
   ]
  },
  {
   "cell_type": "code",
   "execution_count": null,
   "metadata": {},
   "outputs": [],
   "source": []
  }
 ],
 "metadata": {
  "kernelspec": {
   "display_name": "common_env",
   "language": "python",
   "name": "common_env"
  },
  "language_info": {
   "codemirror_mode": {
    "name": "ipython",
    "version": 3
   },
   "file_extension": ".py",
   "mimetype": "text/x-python",
   "name": "python",
   "nbconvert_exporter": "python",
   "pygments_lexer": "ipython3",
   "version": "3.8.0"
  }
 },
 "nbformat": 4,
 "nbformat_minor": 2
}
