{
 "cells": [
  {
   "cell_type": "markdown",
   "metadata": {},
   "source": [
    "# Notebook for making comparison between my solvers and Yandex solver"
   ]
  },
  {
   "cell_type": "code",
   "execution_count": 1,
   "metadata": {},
   "outputs": [],
   "source": [
    "from lib.solver_tools.solver_client import SolverClient\n",
    "from lib.solver_tools import Task\n",
    "from lib.solver_tools.utils import make_task_comparison_link\n",
    "import json\n",
    "from copy import deepcopy\n",
    "from lib.common_tools.read_token import read_solver_apikey\n",
    "import os"
   ]
  },
  {
   "cell_type": "code",
   "execution_count": 2,
   "metadata": {},
   "outputs": [],
   "source": [
    "%load_ext autoreload\n",
    "%autoreload 2\n",
    "\n",
    "import sys\n",
    "sys.path.append(os.path.join(os.getcwd(), '..'))\n",
    "import vrp_algorithms_lib.common_tools.file_utils as file_utils"
   ]
  },
  {
   "cell_type": "code",
   "execution_count": 3,
   "metadata": {},
   "outputs": [],
   "source": [
    "my_apikey = read_solver_apikey()\n",
    "solver_client = SolverClient(my_apikey)"
   ]
  },
  {
   "cell_type": "code",
   "execution_count": 4,
   "metadata": {},
   "outputs": [],
   "source": [
    "request_path = '../test_data/inputs/large_test_2/request.json'\n",
    "request = file_utils.read_json(request_path)"
   ]
  },
  {
   "cell_type": "code",
   "execution_count": 5,
   "metadata": {},
   "outputs": [
    {
     "name": "stderr",
     "output_type": "stream",
     "text": [
      "/b2bgeo/environments/common_env/lib/python3.8/site-packages/urllib3/connectionpool.py:1013: InsecureRequestWarning: Unverified HTTPS request is being made to host 'courier.yandex.ru'. Adding certificate verification is strongly advised. See: https://urllib3.readthedocs.io/en/1.26.x/advanced-usage.html#ssl-warnings\n",
      "  warnings.warn(\n"
     ]
    }
   ],
   "source": [
    "task_id = solver_client.add_task_and_get_task_id(request)"
   ]
  },
  {
   "cell_type": "code",
   "execution_count": 6,
   "metadata": {},
   "outputs": [
    {
     "name": "stderr",
     "output_type": "stream",
     "text": [
      "Neither solver_api_key nor ya_courier_token provided to SolverClient. Using client in limited functionality mode\n"
     ]
    },
    {
     "data": {
      "text/html": [
       "<a href=\"https://yandex.ru/courier/mvrp-map#87395c93-2f499b06-cf2b2379-9b2a32ae\" target=\"_blank\">https://yandex.ru/courier/mvrp-map#87395c93-2f499b06-cf2b2379-9b2a32ae</a>"
      ],
      "text/plain": [
       "<IPython.core.display.HTML object>"
      ]
     },
     "execution_count": 6,
     "metadata": {},
     "output_type": "execute_result"
    }
   ],
   "source": [
    "Task(task_id).map()"
   ]
  },
  {
   "cell_type": "code",
   "execution_count": 18,
   "metadata": {},
   "outputs": [],
   "source": [
    "def get_request_with_fixed_routes(request, routes):\n",
    "    # routes must contain fields 'vehicle_id', 'location_ids'\n",
    "    new_request = deepcopy(request)\n",
    "    vehicle_id_to_location_ids = {route['vehicle_id'] : route['location_ids'] for route in routes}\n",
    "    for vehicle in new_request['vehicles']:\n",
    "        vehicle['visited_locations'] = [{'id': location_id} for location_id in vehicle_id_to_location_ids[vehicle['id']]]\n",
    "    return new_request"
   ]
  },
  {
   "cell_type": "code",
   "execution_count": 19,
   "metadata": {},
   "outputs": [],
   "source": [
    "routes = file_utils.read_json('../test_data/results/annealing/large_test_2/2000000_iterations_routes.json')"
   ]
  },
  {
   "cell_type": "code",
   "execution_count": 20,
   "metadata": {},
   "outputs": [],
   "source": [
    "request_with_fixed_routes = get_request_with_fixed_routes(request, routes['routes'])"
   ]
  },
  {
   "cell_type": "code",
   "execution_count": 21,
   "metadata": {},
   "outputs": [
    {
     "name": "stderr",
     "output_type": "stream",
     "text": [
      "/b2bgeo/environments/common_env/lib/python3.8/site-packages/urllib3/connectionpool.py:1013: InsecureRequestWarning: Unverified HTTPS request is being made to host 'courier.yandex.ru'. Adding certificate verification is strongly advised. See: https://urllib3.readthedocs.io/en/1.26.x/advanced-usage.html#ssl-warnings\n",
      "  warnings.warn(\n"
     ]
    }
   ],
   "source": [
    "my_task_id = solver_client.add_task_and_get_task_id(request_with_fixed_routes)"
   ]
  },
  {
   "cell_type": "code",
   "execution_count": 34,
   "metadata": {},
   "outputs": [
    {
     "name": "stderr",
     "output_type": "stream",
     "text": [
      "/b2bgeo/environments/common_env/lib/python3.8/site-packages/urllib3/connectionpool.py:1013: InsecureRequestWarning: Unverified HTTPS request is being made to host 'courier.yandex.ru'. Adding certificate verification is strongly advised. See: https://urllib3.readthedocs.io/en/1.26.x/advanced-usage.html#ssl-warnings\n",
      "  warnings.warn(\n"
     ]
    }
   ],
   "source": [
    "my_task_id_2 = solver_client.add_task_and_get_task_id(get_request_with_fixed_routes(request, file_utils.read_json('../test_data/results/annealing/large_test_2/30000000_iterations_routes.json')['routes']))"
   ]
  },
  {
   "cell_type": "code",
   "execution_count": 36,
   "metadata": {},
   "outputs": [
    {
     "name": "stderr",
     "output_type": "stream",
     "text": [
      "Neither solver_api_key nor ya_courier_token provided to SolverClient. Using client in limited functionality mode\n"
     ]
    },
    {
     "ename": "ValueError",
     "evalue": "Task 73d9f103-13f07ee8-f592318d-951fe8d hasn't been solved yet. ETA 01:48:46",
     "output_type": "error",
     "traceback": [
      "\u001b[0;31m---------------------------------------------------------------------------\u001b[0m",
      "\u001b[0;31mValueError\u001b[0m                                Traceback (most recent call last)",
      "Input \u001b[0;32mIn [36]\u001b[0m, in \u001b[0;36m<cell line: 1>\u001b[0;34m()\u001b[0m\n\u001b[0;32m----> 1\u001b[0m \u001b[43mTask\u001b[49m\u001b[43m(\u001b[49m\u001b[43mmy_task_id_2\u001b[49m\u001b[43m)\u001b[49m\u001b[38;5;241m.\u001b[39mmap()\n",
      "File \u001b[0;32m/b2bgeo/environments/common_env/lib/python3.8/site-packages/lib/solver_tools/Task.py:85\u001b[0m, in \u001b[0;36mTask.__init__\u001b[0;34m(self, task_id, solver_api_key, secret_key, instance, request, result, map_as_html, aws)\u001b[0m\n\u001b[1;32m     83\u001b[0m \u001b[38;5;28;01mif\u001b[39;00m \u001b[38;5;124m'\u001b[39m\u001b[38;5;124mresult\u001b[39m\u001b[38;5;124m'\u001b[39m \u001b[38;5;129;01mnot\u001b[39;00m \u001b[38;5;129;01min\u001b[39;00m result:\n\u001b[1;32m     84\u001b[0m     eta \u001b[38;5;241m=\u001b[39m datetime\u001b[38;5;241m.\u001b[39mdatetime\u001b[38;5;241m.\u001b[39mfromtimestamp(result[\u001b[38;5;124m'\u001b[39m\u001b[38;5;124mstatus\u001b[39m\u001b[38;5;124m'\u001b[39m][\u001b[38;5;124m'\u001b[39m\u001b[38;5;124mestimate\u001b[39m\u001b[38;5;124m'\u001b[39m])\u001b[38;5;241m.\u001b[39mstrftime(\u001b[38;5;124m'\u001b[39m\u001b[38;5;124m%\u001b[39m\u001b[38;5;124mH:\u001b[39m\u001b[38;5;124m%\u001b[39m\u001b[38;5;124mM:\u001b[39m\u001b[38;5;124m%\u001b[39m\u001b[38;5;124mS\u001b[39m\u001b[38;5;124m'\u001b[39m)\n\u001b[0;32m---> 85\u001b[0m     \u001b[38;5;28;01mraise\u001b[39;00m \u001b[38;5;167;01mValueError\u001b[39;00m(\u001b[38;5;124mf\u001b[39m\u001b[38;5;124m\"\u001b[39m\u001b[38;5;124mTask \u001b[39m\u001b[38;5;132;01m{task_id}\u001b[39;00m\u001b[38;5;124m hasn\u001b[39m\u001b[38;5;124m'\u001b[39m\u001b[38;5;124mt been solved yet. ETA \u001b[39m\u001b[38;5;132;01m{eta}\u001b[39;00m\u001b[38;5;124m\"\u001b[39m)\n\u001b[1;32m     86\u001b[0m \u001b[38;5;28mself\u001b[39m\u001b[38;5;241m.\u001b[39mtask_id \u001b[38;5;241m=\u001b[39m result[\u001b[38;5;124m'\u001b[39m\u001b[38;5;124mid\u001b[39m\u001b[38;5;124m'\u001b[39m]\n\u001b[1;32m     87\u001b[0m \u001b[38;5;28mself\u001b[39m\u001b[38;5;241m.\u001b[39mdepots \u001b[38;5;241m=\u001b[39m \u001b[38;5;28mself\u001b[39m\u001b[38;5;241m.\u001b[39mget_depots(\u001b[38;5;28mself\u001b[39m\u001b[38;5;241m.\u001b[39mrequest)\n",
      "\u001b[0;31mValueError\u001b[0m: Task 73d9f103-13f07ee8-f592318d-951fe8d hasn't been solved yet. ETA 01:48:46"
     ]
    }
   ],
   "source": [
    "Task(my_task_id_2).map()"
   ]
  },
  {
   "cell_type": "code",
   "execution_count": 35,
   "metadata": {},
   "outputs": [
    {
     "data": {
      "text/html": [
       "<a href=\"https://courier.yandex.ru/s3/courier-admin/compare-tasks/index.html#/?selected_tasks[87395c93-2f499b06-cf2b2379-9b2a32ae]=Task_0&selected_tasks[ec8a5871-80056c7b-5d028cc0-fc6f6076]=Task_1&selected_tasks[73d9f103-13f07ee8-f592318d-951fe8d]=Task_2&\" target=\"_blank\">https://courier.yandex.ru/s3/courier-admin/compare-tasks/index.html#/?selected_tasks[87395c93-2f499b06-cf2b2379-9b2a32ae]=Task_0&selected_tasks[ec8a5871-80056c7b-5d028cc0-fc6f6076]=Task_1&selected_tasks[73d9f103-13f07ee8-f592318d-951fe8d]=Task_2&</a>"
      ],
      "text/plain": [
       "<IPython.core.display.HTML object>"
      ]
     },
     "execution_count": 35,
     "metadata": {},
     "output_type": "execute_result"
    }
   ],
   "source": [
    "make_task_comparison_link([task_id, my_task_id, my_task_id_2])"
   ]
  },
  {
   "cell_type": "code",
   "execution_count": null,
   "metadata": {},
   "outputs": [],
   "source": []
  }
 ],
 "metadata": {
  "kernelspec": {
   "display_name": "common_env",
   "language": "python",
   "name": "common_env"
  },
  "language_info": {
   "codemirror_mode": {
    "name": "ipython",
    "version": 3
   },
   "file_extension": ".py",
   "mimetype": "text/x-python",
   "name": "python",
   "nbconvert_exporter": "python",
   "pygments_lexer": "ipython3",
   "version": "3.8.0"
  }
 },
 "nbformat": 4,
 "nbformat_minor": 2
}
