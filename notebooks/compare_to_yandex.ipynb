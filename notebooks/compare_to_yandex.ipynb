{
 "cells": [
  {
   "cell_type": "markdown",
   "metadata": {},
   "source": [
    "# Notebook for making comparison between my solvers and Yandex solver"
   ]
  },
  {
   "cell_type": "code",
   "execution_count": 46,
   "metadata": {},
   "outputs": [],
   "source": [
    "from lib.solver_tools.solver_client import SolverClient\n",
    "from lib.solver_tools import Task\n",
    "from lib.solver_tools.utils import make_task_comparison_link\n",
    "import json\n",
    "from copy import deepcopy\n",
    "from lib.common_tools.read_token import read_solver_apikey\n",
    "import os"
   ]
  },
  {
   "cell_type": "code",
   "execution_count": null,
   "metadata": {},
   "outputs": [],
   "source": [
    "%load_ext autoreload\n",
    "%autoreload 2\n",
    "\n",
    "import sys\n",
    "sys.path.append(os.path.join(os.getcwd(), '..'))\n",
    "import python_lib.viz as my_viz\n",
    "import python_lib.utils as my_utils"
   ]
  },
  {
   "cell_type": "code",
   "execution_count": 47,
   "metadata": {},
   "outputs": [],
   "source": [
    "my_apikey = read_solver_apikey()\n",
    "solver_client = SolverClient(my_apikey)"
   ]
  },
  {
   "cell_type": "code",
   "execution_count": 49,
   "metadata": {},
   "outputs": [],
   "source": [
    "request_path = '../test_data/inputs/simple_test_1/request.json'\n",
    "request = my_utils.read_json(request_path)"
   ]
  },
  {
   "cell_type": "code",
   "execution_count": 50,
   "metadata": {},
   "outputs": [],
   "source": [
    "task_id = solver_client.add_task_and_get_task_id(request)"
   ]
  },
  {
   "cell_type": "code",
   "execution_count": 60,
   "metadata": {},
   "outputs": [
    {
     "name": "stderr",
     "output_type": "stream",
     "text": [
      "Neither solver_api_key nor ya_courier_token provided to SolverClient. Using client in limited functionality mode\n"
     ]
    },
    {
     "data": {
      "text/html": [
       "<a href=\"https://yandex.ru/courier/mvrp-map#c4ccea4b-aafc3b93-3510fd6d-de0842e6\" target=\"_blank\">https://yandex.ru/courier/mvrp-map#c4ccea4b-aafc3b93-3510fd6d-de0842e6</a>"
      ],
      "text/plain": [
       "<IPython.core.display.HTML object>"
      ]
     },
     "execution_count": 60,
     "metadata": {},
     "output_type": "execute_result"
    }
   ],
   "source": [
    "Task(task_id).map()"
   ]
  },
  {
   "cell_type": "code",
   "execution_count": 53,
   "metadata": {},
   "outputs": [],
   "source": [
    "path_to_result_directory = '../test_data/results/annealing/simple_test_1'\n",
    "path_to_checkpoints = os.path.join(path_to_result_directory, 'checkpoints_1.json')\n",
    "checkpoints = read_json(path_to_checkpoints)"
   ]
  },
  {
   "cell_type": "code",
   "execution_count": 54,
   "metadata": {},
   "outputs": [],
   "source": [
    "def get_request_with_fixed_routes(request, routes):\n",
    "    # routes must contain fields 'vehicle_id', 'location_ids'\n",
    "    new_request = deepcopy(request)\n",
    "    vehicle_id_to_location_ids = {route['vehicle_id'] : route['location_ids'] for route in routes}\n",
    "    for vehicle in new_request['vehicles']:\n",
    "        vehicle['visited_locations'] = [{'id': location_id} for location_id in vehicle_id_to_location_ids[vehicle['id']]]\n",
    "    return new_request"
   ]
  },
  {
   "cell_type": "code",
   "execution_count": 55,
   "metadata": {},
   "outputs": [],
   "source": [
    "request_with_fixed_routes = get_request_with_fixed_routes(request, checkpoints[-1]['routes'])"
   ]
  },
  {
   "cell_type": "code",
   "execution_count": 56,
   "metadata": {},
   "outputs": [
    {
     "name": "stderr",
     "output_type": "stream",
     "text": [
      "/b2bgeo/environments/common_env/lib/python3.8/site-packages/urllib3/connectionpool.py:1013: InsecureRequestWarning: Unverified HTTPS request is being made to host 'courier.yandex.ru'. Adding certificate verification is strongly advised. See: https://urllib3.readthedocs.io/en/1.26.x/advanced-usage.html#ssl-warnings\n",
      "  warnings.warn(\n"
     ]
    }
   ],
   "source": [
    "my_task_id = solver_client.add_task_and_get_task_id(request_with_fixed_routes)"
   ]
  },
  {
   "cell_type": "code",
   "execution_count": 59,
   "metadata": {},
   "outputs": [
    {
     "name": "stderr",
     "output_type": "stream",
     "text": [
      "Neither solver_api_key nor ya_courier_token provided to SolverClient. Using client in limited functionality mode\n"
     ]
    },
    {
     "data": {
      "text/html": [
       "<a href=\"https://yandex.ru/courier/mvrp-map#ca5d6937-a0a55e3f-1c11514b-a15734d7\" target=\"_blank\">https://yandex.ru/courier/mvrp-map#ca5d6937-a0a55e3f-1c11514b-a15734d7</a>"
      ],
      "text/plain": [
       "<IPython.core.display.HTML object>"
      ]
     },
     "execution_count": 59,
     "metadata": {},
     "output_type": "execute_result"
    }
   ],
   "source": [
    "Task(my_task_id).map()"
   ]
  },
  {
   "cell_type": "code",
   "execution_count": 58,
   "metadata": {},
   "outputs": [
    {
     "data": {
      "text/html": [
       "<a href=\"https://courier.yandex.ru/s3/courier-admin/compare-tasks/index.html#/?selected_tasks[c4ccea4b-aafc3b93-3510fd6d-de0842e6]=Task_0&selected_tasks[ca5d6937-a0a55e3f-1c11514b-a15734d7]=Task_1&\" target=\"_blank\">https://courier.yandex.ru/s3/courier-admin/compare-tasks/index.html#/?selected_tasks[c4ccea4b-aafc3b93-3510fd6d-de0842e6]=Task_0&selected_tasks[ca5d6937-a0a55e3f-1c11514b-a15734d7]=Task_1&</a>"
      ],
      "text/plain": [
       "<IPython.core.display.HTML object>"
      ]
     },
     "execution_count": 58,
     "metadata": {},
     "output_type": "execute_result"
    }
   ],
   "source": [
    "make_task_comparison_link([task_id, my_task_id])"
   ]
  },
  {
   "cell_type": "code",
   "execution_count": null,
   "metadata": {},
   "outputs": [],
   "source": []
  }
 ],
 "metadata": {
  "kernelspec": {
   "display_name": "common_env",
   "language": "python",
   "name": "common_env"
  },
  "language_info": {
   "codemirror_mode": {
    "name": "ipython",
    "version": 3
   },
   "file_extension": ".py",
   "mimetype": "text/x-python",
   "name": "python",
   "nbconvert_exporter": "python",
   "pygments_lexer": "ipython3",
   "version": "3.8.0"
  }
 },
 "nbformat": 4,
 "nbformat_minor": 2
}
